{
  "nbformat": 4,
  "nbformat_minor": 0,
  "metadata": {
    "colab": {
      "name": "KNN Classification.ipynb",
      "provenance": [],
      "collapsed_sections": [],
      "toc_visible": true
    },
    "kernelspec": {
      "name": "python3",
      "display_name": "Python 3"
    }
  },
  "cells": [
    {
      "cell_type": "markdown",
      "metadata": {
        "id": "KK0jgKeykCFu"
      },
      "source": [
        "# The Data analytic question\n"
      ]
    },
    {
      "cell_type": "markdown",
      "metadata": {
        "id": "30aAJYTulq2F"
      },
      "source": [
        "Predicting if a passenger in the Titanic "
      ]
    },
    {
      "cell_type": "markdown",
      "metadata": {
        "id": "2InbHWkBoTFI"
      },
      "source": [
        "# Metrics of success\n"
      ]
    },
    {
      "cell_type": "markdown",
      "metadata": {
        "id": "JquBidfcobkR"
      },
      "source": [
        "Doing  a Exploratory data analysis that will help understand the provided data, also create K nearest neighbour classification model that is able to predict if a passenger in the titanic would survive an accident or not"
      ]
    },
    {
      "cell_type": "markdown",
      "metadata": {
        "id": "XGzzh-XzqkSt"
      },
      "source": [
        "# Recording the Experimental Design"
      ]
    },
    {
      "cell_type": "markdown",
      "metadata": {
        "id": "6ZAKOeyvqwe4"
      },
      "source": [
        "To conduct the analysis successfully , the following steps will be followed:\n",
        "\n",
        "Loading the dataset\n",
        "\n",
        "Data understanding\n",
        "\n",
        "Data cleaning and manipulation\n",
        "\n",
        "Exploratory Data analysis\n",
        "\n",
        "Predictive analysis\n",
        "\n",
        "Implementing the solution"
      ]
    },
    {
      "cell_type": "markdown",
      "metadata": {
        "id": "xTsvDWFPsYTT"
      },
      "source": [
        "# Understanding the context"
      ]
    },
    {
      "cell_type": "markdown",
      "metadata": {
        "id": "3hi4QT3rsjFp"
      },
      "source": [
        "The RMS Titanic was a British passenger liner that sank in the North Atlantic Ocean in the early morning hours of 15 April 1912, after it collided with an iceberg during its maiden voyage from Southampton to New York City. There were an estimated 2,224 passengers and crew aboard the ship, and more than 1,500 died, making it one of the deadliest commercial peacetime maritime disasters in modern history. The RMS Titanic was the largest ship afloat at the time it entered service and was the second of three Olympic-class ocean liners operated by the White Star Line. The Titanic was built by the Harland and Wolff shipyard in Belfast. Thomas Andrews, her architect, died in the disaster."
      ]
    },
    {
      "cell_type": "markdown",
      "metadata": {
        "id": "mjrp_tNhrKIz"
      },
      "source": [
        "# Data relevance"
      ]
    },
    {
      "cell_type": "markdown",
      "metadata": {
        "id": "jRCbheU9rMW1"
      },
      "source": [
        "Pclass Passenger Class (1 = 1st; 2 = 2nd; 3 = 3rd)\n",
        "\n",
        "survival Survival (0 = No; 1 = Yes)\n",
        "name Name\n",
        "\n",
        "sex Sex\n",
        "\n",
        "age Age\n",
        "\n",
        "sibsp Number of Siblings/Spouses Aboard\n",
        "\n",
        "parch Number of Parents/Children Aboard\n",
        "\n",
        "ticket Ticket Number\n",
        "\n",
        "fare Passenger Fare (British pound)\n",
        "\n",
        "cabin Cabin\n",
        "\n",
        "embarked Port of Embarkation (C = Cherbourg; Q = Queenstown; S = Southampton)\n",
        "\n",
        "boat Lifeboat\n",
        "\n",
        "body Body Identification Number\n",
        "\n",
        "home.dest Home/Destination"
      ]
    },
    {
      "cell_type": "markdown",
      "metadata": {
        "id": "yQmkT4cw9Nbh"
      },
      "source": [
        "# Data Understanding"
      ]
    },
    {
      "cell_type": "code",
      "metadata": {
        "id": "WvMDzjc2TxIe"
      },
      "source": [
        "## import libraries\n",
        "import pandas as pd\n",
        "import numpy as np\n",
        "import matplotlib.pyplot as plt\n",
        "import seaborn as sns\n",
        "import warnings\n",
        "warnings.simplefilter(action='ignore', category=FutureWarning)"
      ],
      "execution_count": 1,
      "outputs": []
    },
    {
      "cell_type": "code",
      "metadata": {
        "id": "Hdf2s6xEU-L5"
      },
      "source": [
        "### getting the datasets\n",
        "train=pd.read_csv('https://archive.org/download/train5_202002/train%20%285%29.csv',index_col='PassengerId')\n",
        "test=pd.read_csv('https://archive.org/download/test1_202002/test%20%281%29.csv',index_col='PassengerId')"
      ],
      "execution_count": 2,
      "outputs": []
    },
    {
      "cell_type": "code",
      "metadata": {
        "id": "sHZxfwVQVW85",
        "outputId": "255604bb-9cec-4861-e055-c8e04e2a4640",
        "colab": {
          "base_uri": "https://localhost:8080/",
          "height": 235
        }
      },
      "source": [
        "### train data\n",
        "train.head()"
      ],
      "execution_count": 3,
      "outputs": [
        {
          "output_type": "execute_result",
          "data": {
            "text/html": [
              "<div>\n",
              "<style scoped>\n",
              "    .dataframe tbody tr th:only-of-type {\n",
              "        vertical-align: middle;\n",
              "    }\n",
              "\n",
              "    .dataframe tbody tr th {\n",
              "        vertical-align: top;\n",
              "    }\n",
              "\n",
              "    .dataframe thead th {\n",
              "        text-align: right;\n",
              "    }\n",
              "</style>\n",
              "<table border=\"1\" class=\"dataframe\">\n",
              "  <thead>\n",
              "    <tr style=\"text-align: right;\">\n",
              "      <th></th>\n",
              "      <th>Survived</th>\n",
              "      <th>Pclass</th>\n",
              "      <th>Name</th>\n",
              "      <th>Sex</th>\n",
              "      <th>Age</th>\n",
              "      <th>SibSp</th>\n",
              "      <th>Parch</th>\n",
              "      <th>Ticket</th>\n",
              "      <th>Fare</th>\n",
              "      <th>Cabin</th>\n",
              "      <th>Embarked</th>\n",
              "    </tr>\n",
              "    <tr>\n",
              "      <th>PassengerId</th>\n",
              "      <th></th>\n",
              "      <th></th>\n",
              "      <th></th>\n",
              "      <th></th>\n",
              "      <th></th>\n",
              "      <th></th>\n",
              "      <th></th>\n",
              "      <th></th>\n",
              "      <th></th>\n",
              "      <th></th>\n",
              "      <th></th>\n",
              "    </tr>\n",
              "  </thead>\n",
              "  <tbody>\n",
              "    <tr>\n",
              "      <th>1</th>\n",
              "      <td>0</td>\n",
              "      <td>3</td>\n",
              "      <td>Braund, Mr. Owen Harris</td>\n",
              "      <td>male</td>\n",
              "      <td>22.0</td>\n",
              "      <td>1</td>\n",
              "      <td>0</td>\n",
              "      <td>A/5 21171</td>\n",
              "      <td>7.2500</td>\n",
              "      <td>NaN</td>\n",
              "      <td>S</td>\n",
              "    </tr>\n",
              "    <tr>\n",
              "      <th>2</th>\n",
              "      <td>1</td>\n",
              "      <td>1</td>\n",
              "      <td>Cumings, Mrs. John Bradley (Florence Briggs Th...</td>\n",
              "      <td>female</td>\n",
              "      <td>38.0</td>\n",
              "      <td>1</td>\n",
              "      <td>0</td>\n",
              "      <td>PC 17599</td>\n",
              "      <td>71.2833</td>\n",
              "      <td>C85</td>\n",
              "      <td>C</td>\n",
              "    </tr>\n",
              "    <tr>\n",
              "      <th>3</th>\n",
              "      <td>1</td>\n",
              "      <td>3</td>\n",
              "      <td>Heikkinen, Miss. Laina</td>\n",
              "      <td>female</td>\n",
              "      <td>26.0</td>\n",
              "      <td>0</td>\n",
              "      <td>0</td>\n",
              "      <td>STON/O2. 3101282</td>\n",
              "      <td>7.9250</td>\n",
              "      <td>NaN</td>\n",
              "      <td>S</td>\n",
              "    </tr>\n",
              "    <tr>\n",
              "      <th>4</th>\n",
              "      <td>1</td>\n",
              "      <td>1</td>\n",
              "      <td>Futrelle, Mrs. Jacques Heath (Lily May Peel)</td>\n",
              "      <td>female</td>\n",
              "      <td>35.0</td>\n",
              "      <td>1</td>\n",
              "      <td>0</td>\n",
              "      <td>113803</td>\n",
              "      <td>53.1000</td>\n",
              "      <td>C123</td>\n",
              "      <td>S</td>\n",
              "    </tr>\n",
              "    <tr>\n",
              "      <th>5</th>\n",
              "      <td>0</td>\n",
              "      <td>3</td>\n",
              "      <td>Allen, Mr. William Henry</td>\n",
              "      <td>male</td>\n",
              "      <td>35.0</td>\n",
              "      <td>0</td>\n",
              "      <td>0</td>\n",
              "      <td>373450</td>\n",
              "      <td>8.0500</td>\n",
              "      <td>NaN</td>\n",
              "      <td>S</td>\n",
              "    </tr>\n",
              "  </tbody>\n",
              "</table>\n",
              "</div>"
            ],
            "text/plain": [
              "             Survived  Pclass  ... Cabin Embarked\n",
              "PassengerId                    ...               \n",
              "1                   0       3  ...   NaN        S\n",
              "2                   1       1  ...   C85        C\n",
              "3                   1       3  ...   NaN        S\n",
              "4                   1       1  ...  C123        S\n",
              "5                   0       3  ...   NaN        S\n",
              "\n",
              "[5 rows x 11 columns]"
            ]
          },
          "metadata": {
            "tags": []
          },
          "execution_count": 3
        }
      ]
    },
    {
      "cell_type": "code",
      "metadata": {
        "id": "QRZ-xbTdVi5Y",
        "outputId": "ba6d5dea-91ea-4b73-f09f-9f9bb9e0b1eb",
        "colab": {
          "base_uri": "https://localhost:8080/",
          "height": 235
        }
      },
      "source": [
        "## test data\n",
        "test.head()"
      ],
      "execution_count": 4,
      "outputs": [
        {
          "output_type": "execute_result",
          "data": {
            "text/html": [
              "<div>\n",
              "<style scoped>\n",
              "    .dataframe tbody tr th:only-of-type {\n",
              "        vertical-align: middle;\n",
              "    }\n",
              "\n",
              "    .dataframe tbody tr th {\n",
              "        vertical-align: top;\n",
              "    }\n",
              "\n",
              "    .dataframe thead th {\n",
              "        text-align: right;\n",
              "    }\n",
              "</style>\n",
              "<table border=\"1\" class=\"dataframe\">\n",
              "  <thead>\n",
              "    <tr style=\"text-align: right;\">\n",
              "      <th></th>\n",
              "      <th>Pclass</th>\n",
              "      <th>Name</th>\n",
              "      <th>Sex</th>\n",
              "      <th>Age</th>\n",
              "      <th>SibSp</th>\n",
              "      <th>Parch</th>\n",
              "      <th>Ticket</th>\n",
              "      <th>Fare</th>\n",
              "      <th>Cabin</th>\n",
              "      <th>Embarked</th>\n",
              "    </tr>\n",
              "    <tr>\n",
              "      <th>PassengerId</th>\n",
              "      <th></th>\n",
              "      <th></th>\n",
              "      <th></th>\n",
              "      <th></th>\n",
              "      <th></th>\n",
              "      <th></th>\n",
              "      <th></th>\n",
              "      <th></th>\n",
              "      <th></th>\n",
              "      <th></th>\n",
              "    </tr>\n",
              "  </thead>\n",
              "  <tbody>\n",
              "    <tr>\n",
              "      <th>892</th>\n",
              "      <td>3</td>\n",
              "      <td>Kelly, Mr. James</td>\n",
              "      <td>male</td>\n",
              "      <td>34.5</td>\n",
              "      <td>0</td>\n",
              "      <td>0</td>\n",
              "      <td>330911</td>\n",
              "      <td>7.8292</td>\n",
              "      <td>NaN</td>\n",
              "      <td>Q</td>\n",
              "    </tr>\n",
              "    <tr>\n",
              "      <th>893</th>\n",
              "      <td>3</td>\n",
              "      <td>Wilkes, Mrs. James (Ellen Needs)</td>\n",
              "      <td>female</td>\n",
              "      <td>47.0</td>\n",
              "      <td>1</td>\n",
              "      <td>0</td>\n",
              "      <td>363272</td>\n",
              "      <td>7.0000</td>\n",
              "      <td>NaN</td>\n",
              "      <td>S</td>\n",
              "    </tr>\n",
              "    <tr>\n",
              "      <th>894</th>\n",
              "      <td>2</td>\n",
              "      <td>Myles, Mr. Thomas Francis</td>\n",
              "      <td>male</td>\n",
              "      <td>62.0</td>\n",
              "      <td>0</td>\n",
              "      <td>0</td>\n",
              "      <td>240276</td>\n",
              "      <td>9.6875</td>\n",
              "      <td>NaN</td>\n",
              "      <td>Q</td>\n",
              "    </tr>\n",
              "    <tr>\n",
              "      <th>895</th>\n",
              "      <td>3</td>\n",
              "      <td>Wirz, Mr. Albert</td>\n",
              "      <td>male</td>\n",
              "      <td>27.0</td>\n",
              "      <td>0</td>\n",
              "      <td>0</td>\n",
              "      <td>315154</td>\n",
              "      <td>8.6625</td>\n",
              "      <td>NaN</td>\n",
              "      <td>S</td>\n",
              "    </tr>\n",
              "    <tr>\n",
              "      <th>896</th>\n",
              "      <td>3</td>\n",
              "      <td>Hirvonen, Mrs. Alexander (Helga E Lindqvist)</td>\n",
              "      <td>female</td>\n",
              "      <td>22.0</td>\n",
              "      <td>1</td>\n",
              "      <td>1</td>\n",
              "      <td>3101298</td>\n",
              "      <td>12.2875</td>\n",
              "      <td>NaN</td>\n",
              "      <td>S</td>\n",
              "    </tr>\n",
              "  </tbody>\n",
              "</table>\n",
              "</div>"
            ],
            "text/plain": [
              "             Pclass  ... Embarked\n",
              "PassengerId          ...         \n",
              "892               3  ...        Q\n",
              "893               3  ...        S\n",
              "894               2  ...        Q\n",
              "895               3  ...        S\n",
              "896               3  ...        S\n",
              "\n",
              "[5 rows x 10 columns]"
            ]
          },
          "metadata": {
            "tags": []
          },
          "execution_count": 4
        }
      ]
    },
    {
      "cell_type": "code",
      "metadata": {
        "id": "Ce6lPUKqWWeL",
        "outputId": "e2140f24-3fac-4067-8dc8-e4855cd37dd1",
        "colab": {
          "base_uri": "https://localhost:8080/",
          "height": 235
        }
      },
      "source": [
        "### train last data\n",
        "train.tail()"
      ],
      "execution_count": 5,
      "outputs": [
        {
          "output_type": "execute_result",
          "data": {
            "text/html": [
              "<div>\n",
              "<style scoped>\n",
              "    .dataframe tbody tr th:only-of-type {\n",
              "        vertical-align: middle;\n",
              "    }\n",
              "\n",
              "    .dataframe tbody tr th {\n",
              "        vertical-align: top;\n",
              "    }\n",
              "\n",
              "    .dataframe thead th {\n",
              "        text-align: right;\n",
              "    }\n",
              "</style>\n",
              "<table border=\"1\" class=\"dataframe\">\n",
              "  <thead>\n",
              "    <tr style=\"text-align: right;\">\n",
              "      <th></th>\n",
              "      <th>Survived</th>\n",
              "      <th>Pclass</th>\n",
              "      <th>Name</th>\n",
              "      <th>Sex</th>\n",
              "      <th>Age</th>\n",
              "      <th>SibSp</th>\n",
              "      <th>Parch</th>\n",
              "      <th>Ticket</th>\n",
              "      <th>Fare</th>\n",
              "      <th>Cabin</th>\n",
              "      <th>Embarked</th>\n",
              "    </tr>\n",
              "    <tr>\n",
              "      <th>PassengerId</th>\n",
              "      <th></th>\n",
              "      <th></th>\n",
              "      <th></th>\n",
              "      <th></th>\n",
              "      <th></th>\n",
              "      <th></th>\n",
              "      <th></th>\n",
              "      <th></th>\n",
              "      <th></th>\n",
              "      <th></th>\n",
              "      <th></th>\n",
              "    </tr>\n",
              "  </thead>\n",
              "  <tbody>\n",
              "    <tr>\n",
              "      <th>887</th>\n",
              "      <td>0</td>\n",
              "      <td>2</td>\n",
              "      <td>Montvila, Rev. Juozas</td>\n",
              "      <td>male</td>\n",
              "      <td>27.0</td>\n",
              "      <td>0</td>\n",
              "      <td>0</td>\n",
              "      <td>211536</td>\n",
              "      <td>13.00</td>\n",
              "      <td>NaN</td>\n",
              "      <td>S</td>\n",
              "    </tr>\n",
              "    <tr>\n",
              "      <th>888</th>\n",
              "      <td>1</td>\n",
              "      <td>1</td>\n",
              "      <td>Graham, Miss. Margaret Edith</td>\n",
              "      <td>female</td>\n",
              "      <td>19.0</td>\n",
              "      <td>0</td>\n",
              "      <td>0</td>\n",
              "      <td>112053</td>\n",
              "      <td>30.00</td>\n",
              "      <td>B42</td>\n",
              "      <td>S</td>\n",
              "    </tr>\n",
              "    <tr>\n",
              "      <th>889</th>\n",
              "      <td>0</td>\n",
              "      <td>3</td>\n",
              "      <td>Johnston, Miss. Catherine Helen \"Carrie\"</td>\n",
              "      <td>female</td>\n",
              "      <td>NaN</td>\n",
              "      <td>1</td>\n",
              "      <td>2</td>\n",
              "      <td>W./C. 6607</td>\n",
              "      <td>23.45</td>\n",
              "      <td>NaN</td>\n",
              "      <td>S</td>\n",
              "    </tr>\n",
              "    <tr>\n",
              "      <th>890</th>\n",
              "      <td>1</td>\n",
              "      <td>1</td>\n",
              "      <td>Behr, Mr. Karl Howell</td>\n",
              "      <td>male</td>\n",
              "      <td>26.0</td>\n",
              "      <td>0</td>\n",
              "      <td>0</td>\n",
              "      <td>111369</td>\n",
              "      <td>30.00</td>\n",
              "      <td>C148</td>\n",
              "      <td>C</td>\n",
              "    </tr>\n",
              "    <tr>\n",
              "      <th>891</th>\n",
              "      <td>0</td>\n",
              "      <td>3</td>\n",
              "      <td>Dooley, Mr. Patrick</td>\n",
              "      <td>male</td>\n",
              "      <td>32.0</td>\n",
              "      <td>0</td>\n",
              "      <td>0</td>\n",
              "      <td>370376</td>\n",
              "      <td>7.75</td>\n",
              "      <td>NaN</td>\n",
              "      <td>Q</td>\n",
              "    </tr>\n",
              "  </tbody>\n",
              "</table>\n",
              "</div>"
            ],
            "text/plain": [
              "             Survived  Pclass  ... Cabin Embarked\n",
              "PassengerId                    ...               \n",
              "887                 0       2  ...   NaN        S\n",
              "888                 1       1  ...   B42        S\n",
              "889                 0       3  ...   NaN        S\n",
              "890                 1       1  ...  C148        C\n",
              "891                 0       3  ...   NaN        Q\n",
              "\n",
              "[5 rows x 11 columns]"
            ]
          },
          "metadata": {
            "tags": []
          },
          "execution_count": 5
        }
      ]
    },
    {
      "cell_type": "code",
      "metadata": {
        "id": "P0FnYk-VWWg5",
        "outputId": "806e1e70-6dd6-4beb-b741-d281ab49c20a",
        "colab": {
          "base_uri": "https://localhost:8080/",
          "height": 235
        }
      },
      "source": [
        "#### test last data\n",
        "test.tail()"
      ],
      "execution_count": 6,
      "outputs": [
        {
          "output_type": "execute_result",
          "data": {
            "text/html": [
              "<div>\n",
              "<style scoped>\n",
              "    .dataframe tbody tr th:only-of-type {\n",
              "        vertical-align: middle;\n",
              "    }\n",
              "\n",
              "    .dataframe tbody tr th {\n",
              "        vertical-align: top;\n",
              "    }\n",
              "\n",
              "    .dataframe thead th {\n",
              "        text-align: right;\n",
              "    }\n",
              "</style>\n",
              "<table border=\"1\" class=\"dataframe\">\n",
              "  <thead>\n",
              "    <tr style=\"text-align: right;\">\n",
              "      <th></th>\n",
              "      <th>Pclass</th>\n",
              "      <th>Name</th>\n",
              "      <th>Sex</th>\n",
              "      <th>Age</th>\n",
              "      <th>SibSp</th>\n",
              "      <th>Parch</th>\n",
              "      <th>Ticket</th>\n",
              "      <th>Fare</th>\n",
              "      <th>Cabin</th>\n",
              "      <th>Embarked</th>\n",
              "    </tr>\n",
              "    <tr>\n",
              "      <th>PassengerId</th>\n",
              "      <th></th>\n",
              "      <th></th>\n",
              "      <th></th>\n",
              "      <th></th>\n",
              "      <th></th>\n",
              "      <th></th>\n",
              "      <th></th>\n",
              "      <th></th>\n",
              "      <th></th>\n",
              "      <th></th>\n",
              "    </tr>\n",
              "  </thead>\n",
              "  <tbody>\n",
              "    <tr>\n",
              "      <th>1305</th>\n",
              "      <td>3</td>\n",
              "      <td>Spector, Mr. Woolf</td>\n",
              "      <td>male</td>\n",
              "      <td>NaN</td>\n",
              "      <td>0</td>\n",
              "      <td>0</td>\n",
              "      <td>A.5. 3236</td>\n",
              "      <td>8.0500</td>\n",
              "      <td>NaN</td>\n",
              "      <td>S</td>\n",
              "    </tr>\n",
              "    <tr>\n",
              "      <th>1306</th>\n",
              "      <td>1</td>\n",
              "      <td>Oliva y Ocana, Dona. Fermina</td>\n",
              "      <td>female</td>\n",
              "      <td>39.0</td>\n",
              "      <td>0</td>\n",
              "      <td>0</td>\n",
              "      <td>PC 17758</td>\n",
              "      <td>108.9000</td>\n",
              "      <td>C105</td>\n",
              "      <td>C</td>\n",
              "    </tr>\n",
              "    <tr>\n",
              "      <th>1307</th>\n",
              "      <td>3</td>\n",
              "      <td>Saether, Mr. Simon Sivertsen</td>\n",
              "      <td>male</td>\n",
              "      <td>38.5</td>\n",
              "      <td>0</td>\n",
              "      <td>0</td>\n",
              "      <td>SOTON/O.Q. 3101262</td>\n",
              "      <td>7.2500</td>\n",
              "      <td>NaN</td>\n",
              "      <td>S</td>\n",
              "    </tr>\n",
              "    <tr>\n",
              "      <th>1308</th>\n",
              "      <td>3</td>\n",
              "      <td>Ware, Mr. Frederick</td>\n",
              "      <td>male</td>\n",
              "      <td>NaN</td>\n",
              "      <td>0</td>\n",
              "      <td>0</td>\n",
              "      <td>359309</td>\n",
              "      <td>8.0500</td>\n",
              "      <td>NaN</td>\n",
              "      <td>S</td>\n",
              "    </tr>\n",
              "    <tr>\n",
              "      <th>1309</th>\n",
              "      <td>3</td>\n",
              "      <td>Peter, Master. Michael J</td>\n",
              "      <td>male</td>\n",
              "      <td>NaN</td>\n",
              "      <td>1</td>\n",
              "      <td>1</td>\n",
              "      <td>2668</td>\n",
              "      <td>22.3583</td>\n",
              "      <td>NaN</td>\n",
              "      <td>C</td>\n",
              "    </tr>\n",
              "  </tbody>\n",
              "</table>\n",
              "</div>"
            ],
            "text/plain": [
              "             Pclass                          Name  ... Cabin  Embarked\n",
              "PassengerId                                        ...                \n",
              "1305              3            Spector, Mr. Woolf  ...   NaN         S\n",
              "1306              1  Oliva y Ocana, Dona. Fermina  ...  C105         C\n",
              "1307              3  Saether, Mr. Simon Sivertsen  ...   NaN         S\n",
              "1308              3           Ware, Mr. Frederick  ...   NaN         S\n",
              "1309              3      Peter, Master. Michael J  ...   NaN         C\n",
              "\n",
              "[5 rows x 10 columns]"
            ]
          },
          "metadata": {
            "tags": []
          },
          "execution_count": 6
        }
      ]
    },
    {
      "cell_type": "code",
      "metadata": {
        "id": "-m1SobICW7EZ",
        "outputId": "e14c0de5-8667-44aa-c61a-e92c2055a8b0",
        "colab": {
          "base_uri": "https://localhost:8080/",
          "height": 34
        }
      },
      "source": [
        "### train number of columns and rows\n",
        "train.shape"
      ],
      "execution_count": 7,
      "outputs": [
        {
          "output_type": "execute_result",
          "data": {
            "text/plain": [
              "(891, 11)"
            ]
          },
          "metadata": {
            "tags": []
          },
          "execution_count": 7
        }
      ]
    },
    {
      "cell_type": "code",
      "metadata": {
        "id": "m_dmonMQXHBH",
        "outputId": "17bed3e1-b047-4e00-b171-c9671dd71dc2",
        "colab": {
          "base_uri": "https://localhost:8080/",
          "height": 34
        }
      },
      "source": [
        "### test number of columns and rows\n",
        "test.shape"
      ],
      "execution_count": 8,
      "outputs": [
        {
          "output_type": "execute_result",
          "data": {
            "text/plain": [
              "(418, 10)"
            ]
          },
          "metadata": {
            "tags": []
          },
          "execution_count": 8
        }
      ]
    },
    {
      "cell_type": "markdown",
      "metadata": {
        "id": "FY2KuMj4XPqm"
      },
      "source": [
        "From the two dataset we notice that test have all the columns in train except survived  column."
      ]
    },
    {
      "cell_type": "code",
      "metadata": {
        "id": "R4OLp5u1Xa4N",
        "outputId": "750fa86e-9620-4dde-a8c2-d2616ba9ea5b",
        "colab": {
          "base_uri": "https://localhost:8080/",
          "height": 646
        }
      },
      "source": [
        "### data info\n",
        "print(train.info())\n",
        "print(test.info())"
      ],
      "execution_count": 9,
      "outputs": [
        {
          "output_type": "stream",
          "text": [
            "<class 'pandas.core.frame.DataFrame'>\n",
            "Int64Index: 891 entries, 1 to 891\n",
            "Data columns (total 11 columns):\n",
            " #   Column    Non-Null Count  Dtype  \n",
            "---  ------    --------------  -----  \n",
            " 0   Survived  891 non-null    int64  \n",
            " 1   Pclass    891 non-null    int64  \n",
            " 2   Name      891 non-null    object \n",
            " 3   Sex       891 non-null    object \n",
            " 4   Age       714 non-null    float64\n",
            " 5   SibSp     891 non-null    int64  \n",
            " 6   Parch     891 non-null    int64  \n",
            " 7   Ticket    891 non-null    object \n",
            " 8   Fare      891 non-null    float64\n",
            " 9   Cabin     204 non-null    object \n",
            " 10  Embarked  889 non-null    object \n",
            "dtypes: float64(2), int64(4), object(5)\n",
            "memory usage: 83.5+ KB\n",
            "None\n",
            "<class 'pandas.core.frame.DataFrame'>\n",
            "Int64Index: 418 entries, 892 to 1309\n",
            "Data columns (total 10 columns):\n",
            " #   Column    Non-Null Count  Dtype  \n",
            "---  ------    --------------  -----  \n",
            " 0   Pclass    418 non-null    int64  \n",
            " 1   Name      418 non-null    object \n",
            " 2   Sex       418 non-null    object \n",
            " 3   Age       332 non-null    float64\n",
            " 4   SibSp     418 non-null    int64  \n",
            " 5   Parch     418 non-null    int64  \n",
            " 6   Ticket    418 non-null    object \n",
            " 7   Fare      417 non-null    float64\n",
            " 8   Cabin     91 non-null     object \n",
            " 9   Embarked  418 non-null    object \n",
            "dtypes: float64(2), int64(3), object(5)\n",
            "memory usage: 35.9+ KB\n",
            "None\n"
          ],
          "name": "stdout"
        }
      ]
    },
    {
      "cell_type": "markdown",
      "metadata": {
        "id": "mG4ymmFc9UAZ"
      },
      "source": [
        "# Data Cleaning and manipulation"
      ]
    },
    {
      "cell_type": "code",
      "metadata": {
        "id": "5GIfEGlD9TkS",
        "outputId": "6a3d1514-b6a5-4b21-b7fa-1dfc79a75b56",
        "colab": {
          "base_uri": "https://localhost:8080/",
          "height": 527
        }
      },
      "source": [
        "### dropping the columns we dont need'\n",
        "test.head()\n",
        "test=test.drop(['Name','Ticket'],axis=1)\n",
        "train=train.drop(['Name','Ticket'],axis=1)\n",
        "print(test)\n",
        "print(train)"
      ],
      "execution_count": 10,
      "outputs": [
        {
          "output_type": "stream",
          "text": [
            "             Pclass     Sex   Age  SibSp  Parch      Fare Cabin Embarked\n",
            "PassengerId                                                             \n",
            "892               3    male  34.5      0      0    7.8292   NaN        Q\n",
            "893               3  female  47.0      1      0    7.0000   NaN        S\n",
            "894               2    male  62.0      0      0    9.6875   NaN        Q\n",
            "895               3    male  27.0      0      0    8.6625   NaN        S\n",
            "896               3  female  22.0      1      1   12.2875   NaN        S\n",
            "...             ...     ...   ...    ...    ...       ...   ...      ...\n",
            "1305              3    male   NaN      0      0    8.0500   NaN        S\n",
            "1306              1  female  39.0      0      0  108.9000  C105        C\n",
            "1307              3    male  38.5      0      0    7.2500   NaN        S\n",
            "1308              3    male   NaN      0      0    8.0500   NaN        S\n",
            "1309              3    male   NaN      1      1   22.3583   NaN        C\n",
            "\n",
            "[418 rows x 8 columns]\n",
            "             Survived  Pclass     Sex   Age  ...  Parch     Fare  Cabin Embarked\n",
            "PassengerId                                  ...                                \n",
            "1                   0       3    male  22.0  ...      0   7.2500    NaN        S\n",
            "2                   1       1  female  38.0  ...      0  71.2833    C85        C\n",
            "3                   1       3  female  26.0  ...      0   7.9250    NaN        S\n",
            "4                   1       1  female  35.0  ...      0  53.1000   C123        S\n",
            "5                   0       3    male  35.0  ...      0   8.0500    NaN        S\n",
            "...               ...     ...     ...   ...  ...    ...      ...    ...      ...\n",
            "887                 0       2    male  27.0  ...      0  13.0000    NaN        S\n",
            "888                 1       1  female  19.0  ...      0  30.0000    B42        S\n",
            "889                 0       3  female   NaN  ...      2  23.4500    NaN        S\n",
            "890                 1       1    male  26.0  ...      0  30.0000   C148        C\n",
            "891                 0       3    male  32.0  ...      0   7.7500    NaN        Q\n",
            "\n",
            "[891 rows x 9 columns]\n"
          ],
          "name": "stdout"
        }
      ]
    },
    {
      "cell_type": "code",
      "metadata": {
        "id": "l6stXHhCAb-j",
        "outputId": "e6c111ab-4200-4128-ba27-e2090a84c53a",
        "colab": {
          "base_uri": "https://localhost:8080/",
          "height": 187
        }
      },
      "source": [
        "##### looking for  missing  values\n",
        "train.isnull().sum()"
      ],
      "execution_count": 11,
      "outputs": [
        {
          "output_type": "execute_result",
          "data": {
            "text/plain": [
              "Survived      0\n",
              "Pclass        0\n",
              "Sex           0\n",
              "Age         177\n",
              "SibSp         0\n",
              "Parch         0\n",
              "Fare          0\n",
              "Cabin       687\n",
              "Embarked      2\n",
              "dtype: int64"
            ]
          },
          "metadata": {
            "tags": []
          },
          "execution_count": 11
        }
      ]
    },
    {
      "cell_type": "code",
      "metadata": {
        "id": "6d-HA2exBo6-",
        "outputId": "6cc55145-2c9b-49f5-c577-82ab98a5da41",
        "colab": {
          "base_uri": "https://localhost:8080/",
          "height": 170
        }
      },
      "source": [
        "#### looking for missing values\n",
        "test.isnull().sum()"
      ],
      "execution_count": 12,
      "outputs": [
        {
          "output_type": "execute_result",
          "data": {
            "text/plain": [
              "Pclass        0\n",
              "Sex           0\n",
              "Age          86\n",
              "SibSp         0\n",
              "Parch         0\n",
              "Fare          1\n",
              "Cabin       327\n",
              "Embarked      0\n",
              "dtype: int64"
            ]
          },
          "metadata": {
            "tags": []
          },
          "execution_count": 12
        }
      ]
    },
    {
      "cell_type": "markdown",
      "metadata": {
        "id": "kD9IPvYgCOnS"
      },
      "source": [
        "Cabin a have alot of missing values from both train and test datasets hence I will drop it, then we will impute age with the  mean."
      ]
    },
    {
      "cell_type": "code",
      "metadata": {
        "id": "sm9tSplJCG-m"
      },
      "source": [
        "### dropping cabin in both  cabin in both datas\n",
        "train=train.drop('Cabin',1)\n",
        "test=test.drop('Cabin',1)"
      ],
      "execution_count": 13,
      "outputs": []
    },
    {
      "cell_type": "code",
      "metadata": {
        "id": "uM_E4t11TYCX",
        "outputId": "e38a98b3-fe67-42f0-b8ce-81c0d7785727",
        "colab": {
          "base_uri": "https://localhost:8080/",
          "height": 34
        }
      },
      "source": [
        "train['Embarked'].unique()"
      ],
      "execution_count": 14,
      "outputs": [
        {
          "output_type": "execute_result",
          "data": {
            "text/plain": [
              "array(['S', 'C', 'Q', nan], dtype=object)"
            ]
          },
          "metadata": {
            "tags": []
          },
          "execution_count": 14
        }
      ]
    },
    {
      "cell_type": "code",
      "metadata": {
        "id": "I9cKJNimGdwn"
      },
      "source": [
        "### imputing the age  with the mean\n",
        "from sklearn.impute import SimpleImputer\n",
        "impt=SimpleImputer(missing_values=np.NaN,strategy='mean')\n",
        "train[['Age','Fare']]=impt.fit_transform(train[['Age','Fare']])\n",
        "test[['Age','Fare']]=impt.fit_transform(test[['Age','Fare']])"
      ],
      "execution_count": 15,
      "outputs": []
    },
    {
      "cell_type": "code",
      "metadata": {
        "id": "s5nss6--Q4KH",
        "outputId": "5275bab5-bb38-41e2-d038-3a01d9603b76",
        "colab": {
          "base_uri": "https://localhost:8080/",
          "height": 340
        }
      },
      "source": [
        "#### dropNA in Embarked\n",
        "train=train.dropna()\n",
        "print(train.shape)\n",
        "print(test.shape)\n",
        "print(train.isnull().sum())\n",
        "print(test.isnull().sum())"
      ],
      "execution_count": 16,
      "outputs": [
        {
          "output_type": "stream",
          "text": [
            "(889, 8)\n",
            "(418, 7)\n",
            "Survived    0\n",
            "Pclass      0\n",
            "Sex         0\n",
            "Age         0\n",
            "SibSp       0\n",
            "Parch       0\n",
            "Fare        0\n",
            "Embarked    0\n",
            "dtype: int64\n",
            "Pclass      0\n",
            "Sex         0\n",
            "Age         0\n",
            "SibSp       0\n",
            "Parch       0\n",
            "Fare        0\n",
            "Embarked    0\n",
            "dtype: int64\n"
          ],
          "name": "stdout"
        }
      ]
    },
    {
      "cell_type": "code",
      "metadata": {
        "id": "ZuI5vlubVuB2",
        "outputId": "bffcefd5-966e-4454-9582-30ec21b5ff00",
        "colab": {
          "base_uri": "https://localhost:8080/",
          "height": 51
        }
      },
      "source": [
        "### looking for duplicates\n",
        "print('any duplicates in train dataset?:-',train.duplicated().any())\n",
        "print('any duplicates in test dataset?:-',test.duplicated().any())"
      ],
      "execution_count": 17,
      "outputs": [
        {
          "output_type": "stream",
          "text": [
            "any duplicates in train dataset?:- True\n",
            "any duplicates in test dataset?:- True\n"
          ],
          "name": "stdout"
        }
      ]
    },
    {
      "cell_type": "code",
      "metadata": {
        "id": "WsjpoJ60VXTA",
        "outputId": "7c2a2f08-d9d5-4592-b19a-64354c8efe53",
        "colab": {
          "base_uri": "https://localhost:8080/",
          "height": 450
        }
      },
      "source": [
        "### dropping the the duplicates\n",
        "train.drop_duplicates()\n",
        "test.drop_duplicates()"
      ],
      "execution_count": 18,
      "outputs": [
        {
          "output_type": "execute_result",
          "data": {
            "text/html": [
              "<div>\n",
              "<style scoped>\n",
              "    .dataframe tbody tr th:only-of-type {\n",
              "        vertical-align: middle;\n",
              "    }\n",
              "\n",
              "    .dataframe tbody tr th {\n",
              "        vertical-align: top;\n",
              "    }\n",
              "\n",
              "    .dataframe thead th {\n",
              "        text-align: right;\n",
              "    }\n",
              "</style>\n",
              "<table border=\"1\" class=\"dataframe\">\n",
              "  <thead>\n",
              "    <tr style=\"text-align: right;\">\n",
              "      <th></th>\n",
              "      <th>Pclass</th>\n",
              "      <th>Sex</th>\n",
              "      <th>Age</th>\n",
              "      <th>SibSp</th>\n",
              "      <th>Parch</th>\n",
              "      <th>Fare</th>\n",
              "      <th>Embarked</th>\n",
              "    </tr>\n",
              "    <tr>\n",
              "      <th>PassengerId</th>\n",
              "      <th></th>\n",
              "      <th></th>\n",
              "      <th></th>\n",
              "      <th></th>\n",
              "      <th></th>\n",
              "      <th></th>\n",
              "      <th></th>\n",
              "    </tr>\n",
              "  </thead>\n",
              "  <tbody>\n",
              "    <tr>\n",
              "      <th>892</th>\n",
              "      <td>3</td>\n",
              "      <td>male</td>\n",
              "      <td>34.50000</td>\n",
              "      <td>0</td>\n",
              "      <td>0</td>\n",
              "      <td>7.8292</td>\n",
              "      <td>Q</td>\n",
              "    </tr>\n",
              "    <tr>\n",
              "      <th>893</th>\n",
              "      <td>3</td>\n",
              "      <td>female</td>\n",
              "      <td>47.00000</td>\n",
              "      <td>1</td>\n",
              "      <td>0</td>\n",
              "      <td>7.0000</td>\n",
              "      <td>S</td>\n",
              "    </tr>\n",
              "    <tr>\n",
              "      <th>894</th>\n",
              "      <td>2</td>\n",
              "      <td>male</td>\n",
              "      <td>62.00000</td>\n",
              "      <td>0</td>\n",
              "      <td>0</td>\n",
              "      <td>9.6875</td>\n",
              "      <td>Q</td>\n",
              "    </tr>\n",
              "    <tr>\n",
              "      <th>895</th>\n",
              "      <td>3</td>\n",
              "      <td>male</td>\n",
              "      <td>27.00000</td>\n",
              "      <td>0</td>\n",
              "      <td>0</td>\n",
              "      <td>8.6625</td>\n",
              "      <td>S</td>\n",
              "    </tr>\n",
              "    <tr>\n",
              "      <th>896</th>\n",
              "      <td>3</td>\n",
              "      <td>female</td>\n",
              "      <td>22.00000</td>\n",
              "      <td>1</td>\n",
              "      <td>1</td>\n",
              "      <td>12.2875</td>\n",
              "      <td>S</td>\n",
              "    </tr>\n",
              "    <tr>\n",
              "      <th>...</th>\n",
              "      <td>...</td>\n",
              "      <td>...</td>\n",
              "      <td>...</td>\n",
              "      <td>...</td>\n",
              "      <td>...</td>\n",
              "      <td>...</td>\n",
              "      <td>...</td>\n",
              "    </tr>\n",
              "    <tr>\n",
              "      <th>1303</th>\n",
              "      <td>1</td>\n",
              "      <td>female</td>\n",
              "      <td>37.00000</td>\n",
              "      <td>1</td>\n",
              "      <td>0</td>\n",
              "      <td>90.0000</td>\n",
              "      <td>Q</td>\n",
              "    </tr>\n",
              "    <tr>\n",
              "      <th>1304</th>\n",
              "      <td>3</td>\n",
              "      <td>female</td>\n",
              "      <td>28.00000</td>\n",
              "      <td>0</td>\n",
              "      <td>0</td>\n",
              "      <td>7.7750</td>\n",
              "      <td>S</td>\n",
              "    </tr>\n",
              "    <tr>\n",
              "      <th>1306</th>\n",
              "      <td>1</td>\n",
              "      <td>female</td>\n",
              "      <td>39.00000</td>\n",
              "      <td>0</td>\n",
              "      <td>0</td>\n",
              "      <td>108.9000</td>\n",
              "      <td>C</td>\n",
              "    </tr>\n",
              "    <tr>\n",
              "      <th>1307</th>\n",
              "      <td>3</td>\n",
              "      <td>male</td>\n",
              "      <td>38.50000</td>\n",
              "      <td>0</td>\n",
              "      <td>0</td>\n",
              "      <td>7.2500</td>\n",
              "      <td>S</td>\n",
              "    </tr>\n",
              "    <tr>\n",
              "      <th>1309</th>\n",
              "      <td>3</td>\n",
              "      <td>male</td>\n",
              "      <td>30.27259</td>\n",
              "      <td>1</td>\n",
              "      <td>1</td>\n",
              "      <td>22.3583</td>\n",
              "      <td>C</td>\n",
              "    </tr>\n",
              "  </tbody>\n",
              "</table>\n",
              "<p>380 rows × 7 columns</p>\n",
              "</div>"
            ],
            "text/plain": [
              "             Pclass     Sex       Age  SibSp  Parch      Fare Embarked\n",
              "PassengerId                                                           \n",
              "892               3    male  34.50000      0      0    7.8292        Q\n",
              "893               3  female  47.00000      1      0    7.0000        S\n",
              "894               2    male  62.00000      0      0    9.6875        Q\n",
              "895               3    male  27.00000      0      0    8.6625        S\n",
              "896               3  female  22.00000      1      1   12.2875        S\n",
              "...             ...     ...       ...    ...    ...       ...      ...\n",
              "1303              1  female  37.00000      1      0   90.0000        Q\n",
              "1304              3  female  28.00000      0      0    7.7750        S\n",
              "1306              1  female  39.00000      0      0  108.9000        C\n",
              "1307              3    male  38.50000      0      0    7.2500        S\n",
              "1309              3    male  30.27259      1      1   22.3583        C\n",
              "\n",
              "[380 rows x 7 columns]"
            ]
          },
          "metadata": {
            "tags": []
          },
          "execution_count": 18
        }
      ]
    },
    {
      "cell_type": "code",
      "metadata": {
        "id": "7AxUNATraElw",
        "outputId": "2fc4c03c-e01d-47d8-ded8-16046d5b8b82",
        "colab": {
          "base_uri": "https://localhost:8080/",
          "height": 238
        }
      },
      "source": [
        "### checking for outliers for train dataset\n",
        "q1=train.quantile(0.25)\n",
        "q3=train.quantile(0.75)\n",
        "IQR=q3-q3\n",
        "print('TRAIN DATASET',IQR)\n",
        "\n",
        "### checking for outliers in test dataset\n",
        "Q1=test.quantile(0.25)\n",
        "Q3=test.quantile(0.75)\n",
        "iqr=Q3-Q1\n",
        "print('TEST DATASET',iqr)"
      ],
      "execution_count": 19,
      "outputs": [
        {
          "output_type": "stream",
          "text": [
            "TRAIN DATASET Survived    0.0\n",
            "Pclass      0.0\n",
            "Age         0.0\n",
            "SibSp       0.0\n",
            "Parch       0.0\n",
            "Fare        0.0\n",
            "Name: 0.75, dtype: float64\n",
            "TEST DATASET Pclass     2.0000\n",
            "Age       12.7500\n",
            "SibSp      1.0000\n",
            "Parch      0.0000\n",
            "Fare      23.6042\n",
            "dtype: float64\n"
          ],
          "name": "stdout"
        }
      ]
    },
    {
      "cell_type": "markdown",
      "metadata": {
        "id": "Ujpyk3wqc79k"
      },
      "source": [
        "FRom above we can see train dataset have not outliers but the test set have outliers"
      ]
    },
    {
      "cell_type": "code",
      "metadata": {
        "id": "LQg2iNBcc7ev"
      },
      "source": [
        "### dealing with outliers of test dataset\n",
        "df_test=test[~((test<(Q1-1.5*iqr))|(test>(Q3+1.5*iqr))).any(axis=1)]\n"
      ],
      "execution_count": 20,
      "outputs": []
    },
    {
      "cell_type": "markdown",
      "metadata": {
        "id": "N89zZChTh3kW"
      },
      "source": [
        "Before I dive into visualization and data representation it better I understand every column and what it represent and I can encode the data with the right representation for better understanding:\n",
        "\n",
        "dataset:\n",
        "\n",
        "Pclass Passenger Class (1 = 1st; 2 = 2nd; 3 = 3rd)\n",
        "\n",
        "survival Survival (0 = No; 1 = Yes)\n",
        "\n",
        "sex Sex\n",
        "age Age\n",
        "\n",
        "sibsp Number of Siblings/Spouses Aboard\n",
        "\n",
        "parch Number of Parents/Children Aboard\n",
        "\n",
        "fare Passenger Fare (British pound)\n",
        "\n",
        "\n",
        "embarked Port of Embarkation (C = Cherbourg; Q = Queenstown; S = Southampton)\n",
        "\n",
        "\n",
        "\n",
        "\n",
        "\n"
      ]
    },
    {
      "cell_type": "code",
      "metadata": {
        "id": "Nf-G_cKKjMkY"
      },
      "source": [
        "### first we rename the columns\n",
        "train=train.rename(columns={'Pclass':'passenger class','SibSp':'No.sibling/spouse aboard','Parch':'No.parent/children aboard','Embarked':'embarked port'})\n",
        "test=df_test.rename(columns={'Pclass':'passenger class','SibSp':'No.sibling/spouse aboard','Parch':'No.parent/children aboard','Embarked':'embarked port'})"
      ],
      "execution_count": 21,
      "outputs": []
    },
    {
      "cell_type": "code",
      "metadata": {
        "id": "7ydqGRG6kfRp"
      },
      "source": [
        "### replacing for  train data\n",
        "train['Survived']=train['Survived'].replace(0,'not survived').replace(1,'survived')\n",
        "train['passenger class']=train['passenger class'].replace(1,'first class').replace(2,'second class').replace(3,'third class')\n",
        "train['embarked port']=train['embarked port'].replace('S','Southampton').replace('Q','Queenstown').replace('C','Cherbourg')\n",
        "### replacing for test data\n",
        "test['passenger class']=test['passenger class'].replace(1,'first class').replace(2,'second class').replace(3,'third class')\n",
        "test['embarked port']=test['embarked port'].replace('S','Southampton').replace('Q','Queenstown').replace('C','Cherbourg')"
      ],
      "execution_count": 22,
      "outputs": []
    },
    {
      "cell_type": "code",
      "metadata": {
        "id": "REtdSY3kneDu",
        "outputId": "e636575d-4ce3-4c30-dd82-11f13cecd102",
        "colab": {
          "base_uri": "https://localhost:8080/",
          "height": 235
        }
      },
      "source": [
        "### our transformed data set for EDA\n",
        "train.head()\n"
      ],
      "execution_count": 23,
      "outputs": [
        {
          "output_type": "execute_result",
          "data": {
            "text/html": [
              "<div>\n",
              "<style scoped>\n",
              "    .dataframe tbody tr th:only-of-type {\n",
              "        vertical-align: middle;\n",
              "    }\n",
              "\n",
              "    .dataframe tbody tr th {\n",
              "        vertical-align: top;\n",
              "    }\n",
              "\n",
              "    .dataframe thead th {\n",
              "        text-align: right;\n",
              "    }\n",
              "</style>\n",
              "<table border=\"1\" class=\"dataframe\">\n",
              "  <thead>\n",
              "    <tr style=\"text-align: right;\">\n",
              "      <th></th>\n",
              "      <th>Survived</th>\n",
              "      <th>passenger class</th>\n",
              "      <th>Sex</th>\n",
              "      <th>Age</th>\n",
              "      <th>No.sibling/spouse aboard</th>\n",
              "      <th>No.parent/children aboard</th>\n",
              "      <th>Fare</th>\n",
              "      <th>embarked port</th>\n",
              "    </tr>\n",
              "    <tr>\n",
              "      <th>PassengerId</th>\n",
              "      <th></th>\n",
              "      <th></th>\n",
              "      <th></th>\n",
              "      <th></th>\n",
              "      <th></th>\n",
              "      <th></th>\n",
              "      <th></th>\n",
              "      <th></th>\n",
              "    </tr>\n",
              "  </thead>\n",
              "  <tbody>\n",
              "    <tr>\n",
              "      <th>1</th>\n",
              "      <td>not survived</td>\n",
              "      <td>third class</td>\n",
              "      <td>male</td>\n",
              "      <td>22.0</td>\n",
              "      <td>1</td>\n",
              "      <td>0</td>\n",
              "      <td>7.2500</td>\n",
              "      <td>Southampton</td>\n",
              "    </tr>\n",
              "    <tr>\n",
              "      <th>2</th>\n",
              "      <td>survived</td>\n",
              "      <td>first class</td>\n",
              "      <td>female</td>\n",
              "      <td>38.0</td>\n",
              "      <td>1</td>\n",
              "      <td>0</td>\n",
              "      <td>71.2833</td>\n",
              "      <td>Cherbourg</td>\n",
              "    </tr>\n",
              "    <tr>\n",
              "      <th>3</th>\n",
              "      <td>survived</td>\n",
              "      <td>third class</td>\n",
              "      <td>female</td>\n",
              "      <td>26.0</td>\n",
              "      <td>0</td>\n",
              "      <td>0</td>\n",
              "      <td>7.9250</td>\n",
              "      <td>Southampton</td>\n",
              "    </tr>\n",
              "    <tr>\n",
              "      <th>4</th>\n",
              "      <td>survived</td>\n",
              "      <td>first class</td>\n",
              "      <td>female</td>\n",
              "      <td>35.0</td>\n",
              "      <td>1</td>\n",
              "      <td>0</td>\n",
              "      <td>53.1000</td>\n",
              "      <td>Southampton</td>\n",
              "    </tr>\n",
              "    <tr>\n",
              "      <th>5</th>\n",
              "      <td>not survived</td>\n",
              "      <td>third class</td>\n",
              "      <td>male</td>\n",
              "      <td>35.0</td>\n",
              "      <td>0</td>\n",
              "      <td>0</td>\n",
              "      <td>8.0500</td>\n",
              "      <td>Southampton</td>\n",
              "    </tr>\n",
              "  </tbody>\n",
              "</table>\n",
              "</div>"
            ],
            "text/plain": [
              "                 Survived passenger class  ...     Fare  embarked port\n",
              "PassengerId                                ...                        \n",
              "1            not survived     third class  ...   7.2500    Southampton\n",
              "2                survived     first class  ...  71.2833      Cherbourg\n",
              "3                survived     third class  ...   7.9250    Southampton\n",
              "4                survived     first class  ...  53.1000    Southampton\n",
              "5            not survived     third class  ...   8.0500    Southampton\n",
              "\n",
              "[5 rows x 8 columns]"
            ]
          },
          "metadata": {
            "tags": []
          },
          "execution_count": 23
        }
      ]
    },
    {
      "cell_type": "code",
      "metadata": {
        "id": "lhe9UU0Voht7",
        "outputId": "9dcd20e5-b18d-4c10-afde-d873f55569f6",
        "colab": {
          "base_uri": "https://localhost:8080/",
          "height": 235
        }
      },
      "source": [
        "### tranformed test data\n",
        "test.head()"
      ],
      "execution_count": 24,
      "outputs": [
        {
          "output_type": "execute_result",
          "data": {
            "text/html": [
              "<div>\n",
              "<style scoped>\n",
              "    .dataframe tbody tr th:only-of-type {\n",
              "        vertical-align: middle;\n",
              "    }\n",
              "\n",
              "    .dataframe tbody tr th {\n",
              "        vertical-align: top;\n",
              "    }\n",
              "\n",
              "    .dataframe thead th {\n",
              "        text-align: right;\n",
              "    }\n",
              "</style>\n",
              "<table border=\"1\" class=\"dataframe\">\n",
              "  <thead>\n",
              "    <tr style=\"text-align: right;\">\n",
              "      <th></th>\n",
              "      <th>passenger class</th>\n",
              "      <th>Sex</th>\n",
              "      <th>Age</th>\n",
              "      <th>No.sibling/spouse aboard</th>\n",
              "      <th>No.parent/children aboard</th>\n",
              "      <th>Fare</th>\n",
              "      <th>embarked port</th>\n",
              "    </tr>\n",
              "    <tr>\n",
              "      <th>PassengerId</th>\n",
              "      <th></th>\n",
              "      <th></th>\n",
              "      <th></th>\n",
              "      <th></th>\n",
              "      <th></th>\n",
              "      <th></th>\n",
              "      <th></th>\n",
              "    </tr>\n",
              "  </thead>\n",
              "  <tbody>\n",
              "    <tr>\n",
              "      <th>892</th>\n",
              "      <td>third class</td>\n",
              "      <td>male</td>\n",
              "      <td>34.5</td>\n",
              "      <td>0</td>\n",
              "      <td>0</td>\n",
              "      <td>7.8292</td>\n",
              "      <td>Queenstown</td>\n",
              "    </tr>\n",
              "    <tr>\n",
              "      <th>893</th>\n",
              "      <td>third class</td>\n",
              "      <td>female</td>\n",
              "      <td>47.0</td>\n",
              "      <td>1</td>\n",
              "      <td>0</td>\n",
              "      <td>7.0000</td>\n",
              "      <td>Southampton</td>\n",
              "    </tr>\n",
              "    <tr>\n",
              "      <th>895</th>\n",
              "      <td>third class</td>\n",
              "      <td>male</td>\n",
              "      <td>27.0</td>\n",
              "      <td>0</td>\n",
              "      <td>0</td>\n",
              "      <td>8.6625</td>\n",
              "      <td>Southampton</td>\n",
              "    </tr>\n",
              "    <tr>\n",
              "      <th>897</th>\n",
              "      <td>third class</td>\n",
              "      <td>male</td>\n",
              "      <td>14.0</td>\n",
              "      <td>0</td>\n",
              "      <td>0</td>\n",
              "      <td>9.2250</td>\n",
              "      <td>Southampton</td>\n",
              "    </tr>\n",
              "    <tr>\n",
              "      <th>898</th>\n",
              "      <td>third class</td>\n",
              "      <td>female</td>\n",
              "      <td>30.0</td>\n",
              "      <td>0</td>\n",
              "      <td>0</td>\n",
              "      <td>7.6292</td>\n",
              "      <td>Queenstown</td>\n",
              "    </tr>\n",
              "  </tbody>\n",
              "</table>\n",
              "</div>"
            ],
            "text/plain": [
              "            passenger class     Sex  ...    Fare  embarked port\n",
              "PassengerId                          ...                       \n",
              "892             third class    male  ...  7.8292     Queenstown\n",
              "893             third class  female  ...  7.0000    Southampton\n",
              "895             third class    male  ...  8.6625    Southampton\n",
              "897             third class    male  ...  9.2250    Southampton\n",
              "898             third class  female  ...  7.6292     Queenstown\n",
              "\n",
              "[5 rows x 7 columns]"
            ]
          },
          "metadata": {
            "tags": []
          },
          "execution_count": 24
        }
      ]
    },
    {
      "cell_type": "markdown",
      "metadata": {
        "id": "pgynrmsYfiKn"
      },
      "source": [
        "# Exploratory Data Analysis"
      ]
    },
    {
      "cell_type": "code",
      "metadata": {
        "id": "JpJ_QROnfqil",
        "outputId": "d9b607de-3315-430b-9a3e-af2e2208242a",
        "colab": {
          "base_uri": "https://localhost:8080/",
          "height": 297
        }
      },
      "source": [
        "### statistical description of train and test data\n",
        "train.describe()"
      ],
      "execution_count": 25,
      "outputs": [
        {
          "output_type": "execute_result",
          "data": {
            "text/html": [
              "<div>\n",
              "<style scoped>\n",
              "    .dataframe tbody tr th:only-of-type {\n",
              "        vertical-align: middle;\n",
              "    }\n",
              "\n",
              "    .dataframe tbody tr th {\n",
              "        vertical-align: top;\n",
              "    }\n",
              "\n",
              "    .dataframe thead th {\n",
              "        text-align: right;\n",
              "    }\n",
              "</style>\n",
              "<table border=\"1\" class=\"dataframe\">\n",
              "  <thead>\n",
              "    <tr style=\"text-align: right;\">\n",
              "      <th></th>\n",
              "      <th>Age</th>\n",
              "      <th>No.sibling/spouse aboard</th>\n",
              "      <th>No.parent/children aboard</th>\n",
              "      <th>Fare</th>\n",
              "    </tr>\n",
              "  </thead>\n",
              "  <tbody>\n",
              "    <tr>\n",
              "      <th>count</th>\n",
              "      <td>889.000000</td>\n",
              "      <td>889.000000</td>\n",
              "      <td>889.000000</td>\n",
              "      <td>889.000000</td>\n",
              "    </tr>\n",
              "    <tr>\n",
              "      <th>mean</th>\n",
              "      <td>29.653446</td>\n",
              "      <td>0.524184</td>\n",
              "      <td>0.382452</td>\n",
              "      <td>32.096681</td>\n",
              "    </tr>\n",
              "    <tr>\n",
              "      <th>std</th>\n",
              "      <td>12.968366</td>\n",
              "      <td>1.103705</td>\n",
              "      <td>0.806761</td>\n",
              "      <td>49.697504</td>\n",
              "    </tr>\n",
              "    <tr>\n",
              "      <th>min</th>\n",
              "      <td>0.420000</td>\n",
              "      <td>0.000000</td>\n",
              "      <td>0.000000</td>\n",
              "      <td>0.000000</td>\n",
              "    </tr>\n",
              "    <tr>\n",
              "      <th>25%</th>\n",
              "      <td>22.000000</td>\n",
              "      <td>0.000000</td>\n",
              "      <td>0.000000</td>\n",
              "      <td>7.895800</td>\n",
              "    </tr>\n",
              "    <tr>\n",
              "      <th>50%</th>\n",
              "      <td>29.699118</td>\n",
              "      <td>0.000000</td>\n",
              "      <td>0.000000</td>\n",
              "      <td>14.454200</td>\n",
              "    </tr>\n",
              "    <tr>\n",
              "      <th>75%</th>\n",
              "      <td>35.000000</td>\n",
              "      <td>1.000000</td>\n",
              "      <td>0.000000</td>\n",
              "      <td>31.000000</td>\n",
              "    </tr>\n",
              "    <tr>\n",
              "      <th>max</th>\n",
              "      <td>80.000000</td>\n",
              "      <td>8.000000</td>\n",
              "      <td>6.000000</td>\n",
              "      <td>512.329200</td>\n",
              "    </tr>\n",
              "  </tbody>\n",
              "</table>\n",
              "</div>"
            ],
            "text/plain": [
              "              Age  ...        Fare\n",
              "count  889.000000  ...  889.000000\n",
              "mean    29.653446  ...   32.096681\n",
              "std     12.968366  ...   49.697504\n",
              "min      0.420000  ...    0.000000\n",
              "25%     22.000000  ...    7.895800\n",
              "50%     29.699118  ...   14.454200\n",
              "75%     35.000000  ...   31.000000\n",
              "max     80.000000  ...  512.329200\n",
              "\n",
              "[8 rows x 4 columns]"
            ]
          },
          "metadata": {
            "tags": []
          },
          "execution_count": 25
        }
      ]
    },
    {
      "cell_type": "code",
      "metadata": {
        "id": "7dl4VHPrhmoz",
        "outputId": "66183f5b-f5a7-4711-d617-2b16e06f0e60",
        "colab": {
          "base_uri": "https://localhost:8080/",
          "height": 297
        }
      },
      "source": [
        "### statistical description of test set\n",
        "test.describe()"
      ],
      "execution_count": 26,
      "outputs": [
        {
          "output_type": "execute_result",
          "data": {
            "text/html": [
              "<div>\n",
              "<style scoped>\n",
              "    .dataframe tbody tr th:only-of-type {\n",
              "        vertical-align: middle;\n",
              "    }\n",
              "\n",
              "    .dataframe tbody tr th {\n",
              "        vertical-align: top;\n",
              "    }\n",
              "\n",
              "    .dataframe thead th {\n",
              "        text-align: right;\n",
              "    }\n",
              "</style>\n",
              "<table border=\"1\" class=\"dataframe\">\n",
              "  <thead>\n",
              "    <tr style=\"text-align: right;\">\n",
              "      <th></th>\n",
              "      <th>Age</th>\n",
              "      <th>No.sibling/spouse aboard</th>\n",
              "      <th>No.parent/children aboard</th>\n",
              "      <th>Fare</th>\n",
              "    </tr>\n",
              "  </thead>\n",
              "  <tbody>\n",
              "    <tr>\n",
              "      <th>count</th>\n",
              "      <td>281.000000</td>\n",
              "      <td>281.000000</td>\n",
              "      <td>281.0</td>\n",
              "      <td>281.000000</td>\n",
              "    </tr>\n",
              "    <tr>\n",
              "      <th>mean</th>\n",
              "      <td>29.169002</td>\n",
              "      <td>0.213523</td>\n",
              "      <td>0.0</td>\n",
              "      <td>15.618090</td>\n",
              "    </tr>\n",
              "    <tr>\n",
              "      <th>std</th>\n",
              "      <td>7.866390</td>\n",
              "      <td>0.475051</td>\n",
              "      <td>0.0</td>\n",
              "      <td>12.818909</td>\n",
              "    </tr>\n",
              "    <tr>\n",
              "      <th>min</th>\n",
              "      <td>12.000000</td>\n",
              "      <td>0.000000</td>\n",
              "      <td>0.0</td>\n",
              "      <td>0.000000</td>\n",
              "    </tr>\n",
              "    <tr>\n",
              "      <th>25%</th>\n",
              "      <td>24.000000</td>\n",
              "      <td>0.000000</td>\n",
              "      <td>0.0</td>\n",
              "      <td>7.775000</td>\n",
              "    </tr>\n",
              "    <tr>\n",
              "      <th>50%</th>\n",
              "      <td>30.272590</td>\n",
              "      <td>0.000000</td>\n",
              "      <td>0.0</td>\n",
              "      <td>8.662500</td>\n",
              "    </tr>\n",
              "    <tr>\n",
              "      <th>75%</th>\n",
              "      <td>30.272590</td>\n",
              "      <td>0.000000</td>\n",
              "      <td>0.0</td>\n",
              "      <td>21.000000</td>\n",
              "    </tr>\n",
              "    <tr>\n",
              "      <th>max</th>\n",
              "      <td>54.000000</td>\n",
              "      <td>2.000000</td>\n",
              "      <td>0.0</td>\n",
              "      <td>65.000000</td>\n",
              "    </tr>\n",
              "  </tbody>\n",
              "</table>\n",
              "</div>"
            ],
            "text/plain": [
              "              Age  ...        Fare\n",
              "count  281.000000  ...  281.000000\n",
              "mean    29.169002  ...   15.618090\n",
              "std      7.866390  ...   12.818909\n",
              "min     12.000000  ...    0.000000\n",
              "25%     24.000000  ...    7.775000\n",
              "50%     30.272590  ...    8.662500\n",
              "75%     30.272590  ...   21.000000\n",
              "max     54.000000  ...   65.000000\n",
              "\n",
              "[8 rows x 4 columns]"
            ]
          },
          "metadata": {
            "tags": []
          },
          "execution_count": 26
        }
      ]
    },
    {
      "cell_type": "markdown",
      "metadata": {
        "id": "2rA9DsyFxQD4"
      },
      "source": [
        "From the people in the ship, the mean age was 29 years, the oldest being 80 and youngest being less than 1 year.\n",
        "The highest number of siblings/ spouses on board was 8 and also there was a majority who did not have siblings/ spouses on board.\n",
        "The Highest number of parent/child  on board was 6."
      ]
    },
    {
      "cell_type": "code",
      "metadata": {
        "id": "Vj8ayrowi703",
        "outputId": "7df8c658-18f6-4b64-a744-f2145e52d678",
        "colab": {
          "base_uri": "https://localhost:8080/",
          "height": 370
        }
      },
      "source": [
        "### the count of those that survived\n",
        "fig,ax=plt.subplots(figsize=(13,5))\n",
        "sns.set_style('dark')\n",
        "plt.suptitle('The number of people who survied per passager class',fontsize=(10))\n",
        "ax=sns.countplot('Survived',hue='passenger class',data=train,palette='Set2',edgecolor=\".6\")\n",
        "for p in ax.patches:\n",
        "  ax.annotate(format(p.get_height(), '.2f'), (p.get_x() + p.get_width() / 2., p.get_height()), ha = 'center', \n",
        "              va = 'center', xytext = (0, 10), textcoords = 'offset points')"
      ],
      "execution_count": 27,
      "outputs": [
        {
          "output_type": "display_data",
          "data": {
            "image/png": "[encoded data removed]",
            "text/plain": [
              "<Figure size 936x360 with 1 Axes>"
            ]
          },
          "metadata": {
            "tags": [],
            "needs_background": "light"
          }
        }
      ]
    },
    {
      "cell_type": "markdown",
      "metadata": {
        "id": "QG-91Ttg5iKe"
      },
      "source": [
        "From the dataset we learn that the highest number of people who did not survive the accident were inthe third class and the lowest 1st class had the lowest number of casualities. On the flip side first class had the highest number of survivors.\n",
        "2nd class had lowest number of survivor"
      ]
    },
    {
      "cell_type": "code",
      "metadata": {
        "id": "CBXQLh676PU7",
        "outputId": "fa33ed56-3bd5-40f3-ac8e-3d11a5135ca6",
        "colab": {
          "base_uri": "https://localhost:8080/",
          "height": 382
        }
      },
      "source": [
        "#### number survivors  who were on board with their siblings or spouse\n",
        "sns.set_theme(style=\"ticks\")\n",
        "ax=sns.catplot(x='Survived',y='No.sibling/spouse aboard',col='passenger class',\n",
        "               data=train,kind='violin',palette='mako',aspect=0.8)\n",
        " "
      ],
      "execution_count": 28,
      "outputs": [
        {
          "output_type": "display_data",
          "data": {
            "image/png": "[encoded data removed]",
            "text/plain": [
              "<Figure size 864x360 with 3 Axes>"
            ]
          },
          "metadata": {
            "tags": []
          }
        }
      ]
    },
    {
      "cell_type": "markdown",
      "metadata": {
        "id": "FtB7f8kGB2x2"
      },
      "source": [
        "Alot of the people did not have  siblings in the ship, but we can see a few of them  had and did not survive, in  third class we had the highest number of people who did not survive.\n",
        "\n",
        "Since  third class was packed with people that is the main reason they have a high number of casualities"
      ]
    },
    {
      "cell_type": "code",
      "metadata": {
        "id": "y3x2O7iHEFT5",
        "outputId": "611f90cc-37e7-4dd5-b1a2-3ca82db5cd7e",
        "colab": {
          "base_uri": "https://localhost:8080/",
          "height": 382
        }
      },
      "source": [
        "#### number survivors  who were on board with their parents/children\n",
        "sns.set_theme(style=\"ticks\")\n",
        "ax=sns.catplot(x='Survived',y='No.parent/children aboard',col='passenger class',\n",
        "               data=train,palette='cubehelix',aspect=0.8)"
      ],
      "execution_count": 29,
      "outputs": [
        {
          "output_type": "display_data",
          "data": {
            "image/png": "[encoded data removed]",
            "text/plain": [
              "<Figure size 864x360 with 3 Axes>"
            ]
          },
          "metadata": {
            "tags": []
          }
        }
      ]
    },
    {
      "cell_type": "markdown",
      "metadata": {
        "id": "ZQEV2MG0F4TE"
      },
      "source": [
        "Third class still had the highest number of parents and childrens who did not survive. from the all classes we can the average number of parents and children who did not survive."
      ]
    },
    {
      "cell_type": "code",
      "metadata": {
        "id": "xGnQjgtuEOPo",
        "outputId": "9f96405d-0051-4e34-fd2f-8742e58cbd31",
        "colab": {
          "base_uri": "https://localhost:8080/",
          "height": 375
        }
      },
      "source": [
        "###\n",
        "### the count of those that survived\n",
        "fig,ax=plt.subplots(figsize=(15,5))\n",
        "sns.set_style('dark')\n",
        "plt.suptitle('The number of people who survied per destination',fontsize=(10))\n",
        "ax=sns.countplot('Survived',hue='embarked port',data=train,palette=\"YlOrBr\",edgecolor=\".6\",orient='h')\n",
        "for p in ax.patches:\n",
        "  ax.annotate(format(p.get_height(), '.2f'), (p.get_x() + p.get_width() / 2., p.get_height()), ha = 'center', \n",
        "              va = 'center', xytext = (0, 10), textcoords = 'offset points')"
      ],
      "execution_count": 30,
      "outputs": [
        {
          "output_type": "display_data",
          "data": {
            "image/png": "[encoded data removed]",
            "text/plain": [
              "<Figure size 1080x360 with 1 Axes>"
            ]
          },
          "metadata": {
            "tags": []
          }
        }
      ]
    },
    {
      "cell_type": "markdown",
      "metadata": {
        "id": "MMMmCzarKw0r"
      },
      "source": [
        "The highest of casualties had boarded the ship from port in Southampton, then followed by passengers from Cherbourg and Queenstown. \n",
        "\n",
        "Port of Southampton still had the highest number of survivors and Queenstown hard the least."
      ]
    },
    {
      "cell_type": "code",
      "metadata": {
        "id": "MUSy-zJPMiuy",
        "outputId": "f5b92d49-8ea3-48a9-de4c-f1088337671f",
        "colab": {
          "base_uri": "https://localhost:8080/",
          "height": 375
        }
      },
      "source": [
        "#### age and sex that survived\n",
        "plt.figure(figsize=(14,5))\n",
        "plt.suptitle('Number of survivors by age and gender')\n",
        "sns.violinplot(x='Age',y='Survived',hue='Sex',\n",
        "               data=train,orient='h',palette='icefire',width=1,color='k')\n",
        "plt.show()"
      ],
      "execution_count": 31,
      "outputs": [
        {
          "output_type": "display_data",
          "data": {
            "image/png": "[encoded data removed]",
            "text/plain": [
              "<Figure size 1008x360 with 1 Axes>"
            ]
          },
          "metadata": {
            "tags": []
          }
        }
      ]
    },
    {
      "cell_type": "markdown",
      "metadata": {
        "id": "lMK9-2qMU724"
      },
      "source": [
        "Most of the passengers were between the age of 20 and 40 years. The highest number of survivors were male between age of 0 years to 80 years.Although there were fewer survivors than casualities."
      ]
    },
    {
      "cell_type": "markdown",
      "metadata": {
        "id": "EFNbkl9rYFvq"
      },
      "source": [
        "## Correlation"
      ]
    },
    {
      "cell_type": "code",
      "metadata": {
        "id": "w8-Oe4JFYIim"
      },
      "source": [
        "#### encoding our train data set\n",
        "from sklearn.preprocessing import LabelEncoder\n",
        "ll=LabelEncoder()\n",
        "data=pd.DataFrame()\n",
        "for i in train.columns:\n",
        "  data[i]=ll.fit_transform(train[i])\n",
        "### encoding test dataset\n",
        "from sklearn.preprocessing import LabelEncoder\n",
        "ll=LabelEncoder()\n",
        "df=pd.DataFrame()\n",
        "for i in test.columns:\n",
        "  df[i]=ll.fit_transform(test[i])"
      ],
      "execution_count": 32,
      "outputs": []
    },
    {
      "cell_type": "code",
      "metadata": {
        "id": "aWQxAAruagDu",
        "outputId": "d89dd142-982e-48e3-d37a-d1c3dfbc73fb",
        "colab": {
          "base_uri": "https://localhost:8080/",
          "height": 516
        }
      },
      "source": [
        "## drawing our heatmaps\n",
        "fig,plt.figure(figsize=(8,6))\n",
        "ax=sns.heatmap(data.corr(),annot=True,color='Pink',vmax=1,vmin=0)"
      ],
      "execution_count": 33,
      "outputs": [
        {
          "output_type": "display_data",
          "data": {
            "image/png": "[encoded data removed]",
            "text/plain": [
              "<Figure size 576x432 with 2 Axes>"
            ]
          },
          "metadata": {
            "tags": []
          }
        }
      ]
    },
    {
      "cell_type": "markdown",
      "metadata": {
        "id": "nOsIR0qtbcMe"
      },
      "source": [
        "There is a inverse correlation between  survivor and Sex, and survivor  the class of th passenger..\n",
        "\n",
        "A weak positive correlation between survivor and the fare spent..\n"
      ]
    },
    {
      "cell_type": "markdown",
      "metadata": {
        "id": "OERBbS9EcIsd"
      },
      "source": [
        "# **Predictive Modelling**"
      ]
    },
    {
      "cell_type": "code",
      "metadata": {
        "id": "1aUTJLGcerHR"
      },
      "source": [
        "#### splitting our dataset into features and label\n",
        "x=data.drop('Survived',1)\n",
        "y=data['Survived']"
      ],
      "execution_count": 34,
      "outputs": []
    },
    {
      "cell_type": "code",
      "metadata": {
        "id": "MgP9crbqf3aA"
      },
      "source": [
        "##### standardizing the features\n",
        "from sklearn.preprocessing import StandardScaler\n",
        "ss=StandardScaler()\n",
        "x=ss.fit_transform(x)"
      ],
      "execution_count": 35,
      "outputs": []
    },
    {
      "cell_type": "code",
      "metadata": {
        "id": "ca4tJGqTghjj"
      },
      "source": [
        "#### splitting the data into 80 20 train and test set \n",
        "from sklearn.model_selection import train_test_split\n",
        "x_train,x_test,y_train,y_test=train_test_split(x,y,test_size=0.2,random_state=24)"
      ],
      "execution_count": 36,
      "outputs": []
    },
    {
      "cell_type": "code",
      "metadata": {
        "id": "CunYLq7shs28",
        "outputId": "77ec582a-6129-4b86-c52d-4f51642a68d7",
        "colab": {
          "base_uri": "https://localhost:8080/",
          "height": 68
        }
      },
      "source": [
        "#### performing KNN\n",
        "from sklearn.neighbors import KNeighborsClassifier\n",
        "classifer=KNeighborsClassifier(10)\n",
        "classifer.fit(x_train,y_train)"
      ],
      "execution_count": 37,
      "outputs": [
        {
          "output_type": "execute_result",
          "data": {
            "text/plain": [
              "KNeighborsClassifier(algorithm='auto', leaf_size=30, metric='minkowski',\n",
              "                     metric_params=None, n_jobs=None, n_neighbors=10, p=2,\n",
              "                     weights='uniform')"
            ]
          },
          "metadata": {
            "tags": []
          },
          "execution_count": 37
        }
      ]
    },
    {
      "cell_type": "code",
      "metadata": {
        "id": "jWqLn-YDQWDs",
        "outputId": "ef03b96d-1584-49dd-d74b-3a0f587d6c9e",
        "colab": {
          "base_uri": "https://localhost:8080/",
          "height": 297
        }
      },
      "source": [
        "### predicting\n",
        "y_pred=classifer.predict(x_test)\n",
        "pred=pd.DataFrame({'actual':y_test,'predicted':y_pred})\n",
        "pred.describe()"
      ],
      "execution_count": 40,
      "outputs": [
        {
          "output_type": "execute_result",
          "data": {
            "text/html": [
              "<div>\n",
              "<style scoped>\n",
              "    .dataframe tbody tr th:only-of-type {\n",
              "        vertical-align: middle;\n",
              "    }\n",
              "\n",
              "    .dataframe tbody tr th {\n",
              "        vertical-align: top;\n",
              "    }\n",
              "\n",
              "    .dataframe thead th {\n",
              "        text-align: right;\n",
              "    }\n",
              "</style>\n",
              "<table border=\"1\" class=\"dataframe\">\n",
              "  <thead>\n",
              "    <tr style=\"text-align: right;\">\n",
              "      <th></th>\n",
              "      <th>actual</th>\n",
              "      <th>predicted</th>\n",
              "    </tr>\n",
              "  </thead>\n",
              "  <tbody>\n",
              "    <tr>\n",
              "      <th>count</th>\n",
              "      <td>178.000000</td>\n",
              "      <td>178.000000</td>\n",
              "    </tr>\n",
              "    <tr>\n",
              "      <th>mean</th>\n",
              "      <td>0.348315</td>\n",
              "      <td>0.269663</td>\n",
              "    </tr>\n",
              "    <tr>\n",
              "      <th>std</th>\n",
              "      <td>0.477780</td>\n",
              "      <td>0.445037</td>\n",
              "    </tr>\n",
              "    <tr>\n",
              "      <th>min</th>\n",
              "      <td>0.000000</td>\n",
              "      <td>0.000000</td>\n",
              "    </tr>\n",
              "    <tr>\n",
              "      <th>25%</th>\n",
              "      <td>0.000000</td>\n",
              "      <td>0.000000</td>\n",
              "    </tr>\n",
              "    <tr>\n",
              "      <th>50%</th>\n",
              "      <td>0.000000</td>\n",
              "      <td>0.000000</td>\n",
              "    </tr>\n",
              "    <tr>\n",
              "      <th>75%</th>\n",
              "      <td>1.000000</td>\n",
              "      <td>1.000000</td>\n",
              "    </tr>\n",
              "    <tr>\n",
              "      <th>max</th>\n",
              "      <td>1.000000</td>\n",
              "      <td>1.000000</td>\n",
              "    </tr>\n",
              "  </tbody>\n",
              "</table>\n",
              "</div>"
            ],
            "text/plain": [
              "           actual   predicted\n",
              "count  178.000000  178.000000\n",
              "mean     0.348315    0.269663\n",
              "std      0.477780    0.445037\n",
              "min      0.000000    0.000000\n",
              "25%      0.000000    0.000000\n",
              "50%      0.000000    0.000000\n",
              "75%      1.000000    1.000000\n",
              "max      1.000000    1.000000"
            ]
          },
          "metadata": {
            "tags": []
          },
          "execution_count": 40
        }
      ]
    },
    {
      "cell_type": "code",
      "metadata": {
        "id": "wuXOez-BRPTd",
        "outputId": "42f76523-184e-4742-96c7-b93761698970",
        "colab": {
          "base_uri": "https://localhost:8080/",
          "height": 221
        }
      },
      "source": [
        "##3 checking the model accuracy\n",
        "from  sklearn.metrics import accuracy_score,confusion_matrix,classification_report\n",
        "print('accuracy score',accuracy_score(y_test,y_pred))\n",
        "print('confusion matrix',confusion_matrix(y_test,y_pred))\n",
        "print('classification report',classification_report(y_test,y_pred))"
      ],
      "execution_count": 43,
      "outputs": [
        {
          "output_type": "stream",
          "text": [
            "accuracy score 0.8876404494382022\n",
            "confusion matrix [[113   3]\n",
            " [ 17  45]]\n",
            "classification report               precision    recall  f1-score   support\n",
            "\n",
            "           0       0.87      0.97      0.92       116\n",
            "           1       0.94      0.73      0.82        62\n",
            "\n",
            "    accuracy                           0.89       178\n",
            "   macro avg       0.90      0.85      0.87       178\n",
            "weighted avg       0.89      0.89      0.88       178\n",
            "\n"
          ],
          "name": "stdout"
        }
      ]
    },
    {
      "cell_type": "markdown",
      "metadata": {
        "id": "rzGNkQn5TnfD"
      },
      "source": [
        "The  model have an accuracy score of 89%..\n",
        "using the confusion matrix our true positive is 113 our true negative was 45.\n",
        "using the classification report we predicted 87% accurately people who did not survive and 94% of the survived. "
      ]
    },
    {
      "cell_type": "markdown",
      "metadata": {
        "id": "O1KHSO7EjytB"
      },
      "source": [
        "# Follow-up Questions"
      ]
    },
    {
      "cell_type": "markdown",
      "metadata": {
        "id": "YC67qPEyuAAe"
      },
      "source": [
        "a) Do we need other data to answer the research question"
      ]
    },
    {
      "cell_type": "markdown",
      "metadata": {
        "id": "GP5O1B-LuG1N"
      },
      "source": [
        "Yes.The data on test should have Label column. This would have made the test dataset more useful. "
      ]
    }
  ]
}